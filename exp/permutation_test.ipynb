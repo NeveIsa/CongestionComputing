{
 "cells": [
  {
   "cell_type": "code",
   "execution_count": 49,
   "id": "ce72df15-bd84-4441-97e3-caa3420e5151",
   "metadata": {},
   "outputs": [],
   "source": [
    "import numpy as np\n",
    "from sklearn.decomposition import TruncatedSVD\n",
    "import pandas as pd\n",
    "import matplotlib.pyplot as plt"
   ]
  },
  {
   "cell_type": "code",
   "execution_count": 6,
   "id": "203ec24f-6e00-45cd-bfe0-67e94201cd9a",
   "metadata": {},
   "outputs": [],
   "source": [
    "df = pd.read_csv('../data/bangalore-wards-2018-4-All-HourlyAggregate.csv')"
   ]
  },
  {
   "cell_type": "code",
   "execution_count": 8,
   "id": "7b5124ab-494f-4ade-bce1-0e3c37e19cc7",
   "metadata": {},
   "outputs": [
    {
     "data": {
      "text/html": [
       "<div>\n",
       "<style scoped>\n",
       "    .dataframe tbody tr th:only-of-type {\n",
       "        vertical-align: middle;\n",
       "    }\n",
       "\n",
       "    .dataframe tbody tr th {\n",
       "        vertical-align: top;\n",
       "    }\n",
       "\n",
       "    .dataframe thead th {\n",
       "        text-align: right;\n",
       "    }\n",
       "</style>\n",
       "<table border=\"1\" class=\"dataframe\">\n",
       "  <thead>\n",
       "    <tr style=\"text-align: right;\">\n",
       "      <th></th>\n",
       "      <th>sourceid</th>\n",
       "      <th>dstid</th>\n",
       "      <th>hod</th>\n",
       "      <th>mean_travel_time</th>\n",
       "      <th>standard_deviation_travel_time</th>\n",
       "      <th>geometric_mean_travel_time</th>\n",
       "      <th>geometric_standard_deviation_travel_time</th>\n",
       "    </tr>\n",
       "  </thead>\n",
       "  <tbody>\n",
       "    <tr>\n",
       "      <th>0</th>\n",
       "      <td>1</td>\n",
       "      <td>1</td>\n",
       "      <td>23</td>\n",
       "      <td>371.44</td>\n",
       "      <td>356.75</td>\n",
       "      <td>251.01</td>\n",
       "      <td>2.51</td>\n",
       "    </tr>\n",
       "    <tr>\n",
       "      <th>1</th>\n",
       "      <td>1</td>\n",
       "      <td>2</td>\n",
       "      <td>2</td>\n",
       "      <td>233.39</td>\n",
       "      <td>228.39</td>\n",
       "      <td>143.60</td>\n",
       "      <td>2.84</td>\n",
       "    </tr>\n",
       "    <tr>\n",
       "      <th>2</th>\n",
       "      <td>1</td>\n",
       "      <td>2</td>\n",
       "      <td>7</td>\n",
       "      <td>333.99</td>\n",
       "      <td>291.39</td>\n",
       "      <td>221.70</td>\n",
       "      <td>2.76</td>\n",
       "    </tr>\n",
       "    <tr>\n",
       "      <th>3</th>\n",
       "      <td>1</td>\n",
       "      <td>2</td>\n",
       "      <td>12</td>\n",
       "      <td>336.10</td>\n",
       "      <td>300.17</td>\n",
       "      <td>216.53</td>\n",
       "      <td>2.93</td>\n",
       "    </tr>\n",
       "    <tr>\n",
       "      <th>4</th>\n",
       "      <td>1</td>\n",
       "      <td>2</td>\n",
       "      <td>17</td>\n",
       "      <td>349.80</td>\n",
       "      <td>321.92</td>\n",
       "      <td>219.83</td>\n",
       "      <td>3.02</td>\n",
       "    </tr>\n",
       "  </tbody>\n",
       "</table>\n",
       "</div>"
      ],
      "text/plain": [
       "   sourceid  dstid  hod  mean_travel_time  standard_deviation_travel_time  \\\n",
       "0         1      1   23            371.44                          356.75   \n",
       "1         1      2    2            233.39                          228.39   \n",
       "2         1      2    7            333.99                          291.39   \n",
       "3         1      2   12            336.10                          300.17   \n",
       "4         1      2   17            349.80                          321.92   \n",
       "\n",
       "   geometric_mean_travel_time  geometric_standard_deviation_travel_time  \n",
       "0                      251.01                                      2.51  \n",
       "1                      143.60                                      2.84  \n",
       "2                      221.70                                      2.76  \n",
       "3                      216.53                                      2.93  \n",
       "4                      219.83                                      3.02  "
      ]
     },
     "execution_count": 8,
     "metadata": {},
     "output_type": "execute_result"
    }
   ],
   "source": [
    "df.head()"
   ]
  },
  {
   "cell_type": "code",
   "execution_count": 9,
   "id": "abcc8518-c596-422f-8623-b353d387f9d2",
   "metadata": {},
   "outputs": [],
   "source": [
    "nodes = max(df.sourceid.max(), df.dstid.max())"
   ]
  },
  {
   "cell_type": "code",
   "execution_count": 16,
   "id": "07522ec8-771d-44a8-93f5-811d33085c58",
   "metadata": {},
   "outputs": [],
   "source": [
    "tensor = np.zeros((nodes,nodes, 24))"
   ]
  },
  {
   "cell_type": "code",
   "execution_count": 17,
   "id": "d46a2aea-e0aa-4f29-9814-62179a1feca1",
   "metadata": {},
   "outputs": [],
   "source": [
    "def transfer(row):\n",
    "    tensor[row.dstid-1,row.sourceid-1,row.hod] = row.mean_travel_time\n",
    "    \n",
    "df.pipe(transfer)"
   ]
  },
  {
   "cell_type": "code",
   "execution_count": 18,
   "id": "8fa45869-1018-41b7-917d-e489897ff11f",
   "metadata": {},
   "outputs": [
    {
     "data": {
      "text/plain": [
       "1166.97"
      ]
     },
     "execution_count": 18,
     "metadata": {},
     "output_type": "execute_result"
    }
   ],
   "source": [
    "tensor[100,150,4]"
   ]
  },
  {
   "cell_type": "code",
   "execution_count": 19,
   "id": "4a05b1db-5c32-450c-a90a-0a926c95e888",
   "metadata": {},
   "outputs": [
    {
     "name": "stderr",
     "output_type": "stream",
     "text": [
      "/home/sampad/pyv/lib/python3.6/site-packages/ipykernel_launcher.py:1: UserWarning: Boolean Series key will be reindexed to match DataFrame index.\n",
      "  \"\"\"Entry point for launching an IPython kernel.\n",
      "/home/sampad/pyv/lib/python3.6/site-packages/ipykernel_launcher.py:1: UserWarning: Boolean Series key will be reindexed to match DataFrame index.\n",
      "  \"\"\"Entry point for launching an IPython kernel.\n"
     ]
    },
    {
     "data": {
      "text/html": [
       "<div>\n",
       "<style scoped>\n",
       "    .dataframe tbody tr th:only-of-type {\n",
       "        vertical-align: middle;\n",
       "    }\n",
       "\n",
       "    .dataframe tbody tr th {\n",
       "        vertical-align: top;\n",
       "    }\n",
       "\n",
       "    .dataframe thead th {\n",
       "        text-align: right;\n",
       "    }\n",
       "</style>\n",
       "<table border=\"1\" class=\"dataframe\">\n",
       "  <thead>\n",
       "    <tr style=\"text-align: right;\">\n",
       "      <th></th>\n",
       "      <th>sourceid</th>\n",
       "      <th>dstid</th>\n",
       "      <th>hod</th>\n",
       "      <th>mean_travel_time</th>\n",
       "      <th>standard_deviation_travel_time</th>\n",
       "      <th>geometric_mean_travel_time</th>\n",
       "      <th>geometric_standard_deviation_travel_time</th>\n",
       "    </tr>\n",
       "  </thead>\n",
       "  <tbody>\n",
       "    <tr>\n",
       "      <th>143699</th>\n",
       "      <td>151</td>\n",
       "      <td>101</td>\n",
       "      <td>4</td>\n",
       "      <td>1166.97</td>\n",
       "      <td>325.71</td>\n",
       "      <td>1128.41</td>\n",
       "      <td>1.29</td>\n",
       "    </tr>\n",
       "  </tbody>\n",
       "</table>\n",
       "</div>"
      ],
      "text/plain": [
       "        sourceid  dstid  hod  mean_travel_time  \\\n",
       "143699       151    101    4           1166.97   \n",
       "\n",
       "        standard_deviation_travel_time  geometric_mean_travel_time  \\\n",
       "143699                          325.71                     1128.41   \n",
       "\n",
       "        geometric_standard_deviation_travel_time  \n",
       "143699                                      1.29  "
      ]
     },
     "execution_count": 19,
     "metadata": {},
     "output_type": "execute_result"
    }
   ],
   "source": [
    "df[df.dstid==101][df.sourceid==151][df.hod==4]"
   ]
  },
  {
   "cell_type": "code",
   "execution_count": 21,
   "id": "a3d876c3-5f4a-4d6d-94e0-0abeba70753f",
   "metadata": {},
   "outputs": [],
   "source": [
    "matrix  = np.zeros((nodes*nodes,24))\n",
    "for h in range(24):\n",
    "    matrix[:,h] = tensor[:,:,h].flatten()"
   ]
  },
  {
   "cell_type": "code",
   "execution_count": 25,
   "id": "bef03c12-2ddf-46ae-bb6b-fa143d48706a",
   "metadata": {},
   "outputs": [
    {
     "data": {
      "text/plain": [
       "TruncatedSVD(n_components=5)"
      ]
     },
     "execution_count": 25,
     "metadata": {},
     "output_type": "execute_result"
    }
   ],
   "source": [
    "svd=TruncatedSVD(5)\n",
    "svd.fit(matrix)"
   ]
  },
  {
   "cell_type": "code",
   "execution_count": 26,
   "id": "1ff385af-c46c-4971-94a0-608fcab853af",
   "metadata": {},
   "outputs": [
    {
     "data": {
      "text/plain": [
       "array([2004118.75235949,  248657.99346629,  164817.74294202,\n",
       "        126494.48133312,  109909.92744893])"
      ]
     },
     "execution_count": 26,
     "metadata": {},
     "output_type": "execute_result"
    }
   ],
   "source": [
    "svd.singular_values_"
   ]
  },
  {
   "cell_type": "code",
   "execution_count": 44,
   "id": "41c2b890-69e3-4bf9-b690-b4ba3304ffd2",
   "metadata": {},
   "outputs": [],
   "source": [
    "RP = np.zeros((nodes*nodes,nodes*nodes))\n",
    "P = np.random.permutation(nodes*nodes)\n",
    "for i in range(nodes*nodes):\n",
    "    RP[i,P[i]] = 1\n",
    "\n",
    "CP = np.zeros((24,24))\n",
    "P = np.random.permutation(24)\n",
    "for i in range(24):\n",
    "    CP[i,P[i]] = 1\n"
   ]
  },
  {
   "cell_type": "code",
   "execution_count": 45,
   "id": "b7410b79-f815-44a1-837e-72ced86290ee",
   "metadata": {},
   "outputs": [
    {
     "data": {
      "text/plain": [
       "TruncatedSVD(n_components=5)"
      ]
     },
     "execution_count": 45,
     "metadata": {},
     "output_type": "execute_result"
    }
   ],
   "source": [
    "svd2 = TruncatedSVD(5)\n",
    "svd2.fit(RP @ matrix @ CP)"
   ]
  },
  {
   "cell_type": "code",
   "execution_count": 47,
   "id": "7315b381-38ff-4116-965c-2119405eb218",
   "metadata": {},
   "outputs": [
    {
     "data": {
      "text/plain": [
       "array([2004118.75235949,  248657.99346822,  164817.73992747,\n",
       "        126495.20607587,  109946.34635749])"
      ]
     },
     "execution_count": 47,
     "metadata": {},
     "output_type": "execute_result"
    }
   ],
   "source": [
    "svd2.singular_values_"
   ]
  },
  {
   "cell_type": "code",
   "execution_count": 52,
   "id": "8b467ecc-7031-4e81-915b-f29e3037ce7f",
   "metadata": {},
   "outputs": [
    {
     "data": {
      "text/plain": [
       "[<matplotlib.lines.Line2D at 0x7f353864b518>]"
      ]
     },
     "execution_count": 52,
     "metadata": {},
     "output_type": "execute_result"
    },
    {
     "data": {
      "image/png": "[encoded data removed]",
      "text/plain": [
       "<Figure size 432x288 with 1 Axes>"
      ]
     },
     "metadata": {
      "needs_background": "light"
     },
     "output_type": "display_data"
    }
   ],
   "source": [
    "plt.plot(range(len(svd2.singular_values_)),svd2.singular_values_)"
   ]
  },
  {
   "cell_type": "code",
   "execution_count": 53,
   "id": "3ee57978-9c0e-487b-92a4-e5a8685a521b",
   "metadata": {},
   "outputs": [
    {
     "data": {
      "text/plain": [
       "[<matplotlib.lines.Line2D at 0x7f35385043c8>]"
      ]
     },
     "execution_count": 53,
     "metadata": {},
     "output_type": "execute_result"
    },
    {
     "data": {
      "image/png": "[encoded data removed]",
      "text/plain": [
       "<Figure size 432x288 with 1 Axes>"
      ]
     },
     "metadata": {
      "needs_background": "light"
     },
     "output_type": "display_data"
    }
   ],
   "source": [
    "plt.plot(range(len(svd.singular_values_)),svd.singular_values_)"
   ]
  },
  {
   "cell_type": "code",
   "execution_count": null,
   "id": "69bfc835-e8d9-43ea-b2cf-db4206d15460",
   "metadata": {},
   "outputs": [],
   "source": []
  }
 ],
 "metadata": {
  "kernelspec": {
   "display_name": "Python 3",
   "language": "python",
   "name": "python3"
  },
  "language_info": {
   "codemirror_mode": {
    "name": "ipython",
    "version": 3
   },
   "file_extension": ".py",
   "mimetype": "text/x-python",
   "name": "python",
   "nbconvert_exporter": "python",
   "pygments_lexer": "ipython3",
   "version": "3.6.9"
  }
 },
 "nbformat": 4,
 "nbformat_minor": 5
}
