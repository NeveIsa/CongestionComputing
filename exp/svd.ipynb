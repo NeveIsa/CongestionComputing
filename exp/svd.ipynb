{
 "cells": [
  {
   "cell_type": "code",
   "execution_count": 2,
   "id": "ae162b6c-75c2-4a6a-b338-ea2452959463",
   "metadata": {},
   "outputs": [],
   "source": [
    "# All imports\n",
    "\n",
    "\n",
    "from prettyprinter import pprint \n",
    "\n",
    "import numpy as np\n",
    "import pandas as pd\n",
    "import json\n",
    "\n",
    "\n",
    "import matplotlib.pyplot as plt\n",
    "plt.rcParams['figure.figsize'] = [15, 10]\n",
    "import seaborn as sns\n",
    "sns.set_style('dark')\n",
    "\n",
    "import tensorly as tl\n",
    "from tensorly.decomposition import parafac,tucker\n",
    "\n",
    "import scipy,sklearn\n",
    "import  sklearn.decomposition\n",
    "from scipy.sparse.linalg import svds\n",
    "\n",
    "import time"
   ]
  },
  {
   "cell_type": "code",
   "execution_count": 13,
   "id": "03f47bf0-2d66-47c8-a7bc-f492e8a0510a",
   "metadata": {},
   "outputs": [
    {
     "data": {
      "text/plain": [
       "array([[1., 2., 3.],\n",
       "       [4., 5., 6.],\n",
       "       [7., 8., 9.]], dtype=float32)"
      ]
     },
     "execution_count": 13,
     "metadata": {},
     "output_type": "execute_result"
    }
   ],
   "source": [
    "npmatrix = np.array([[1,2,3],[4,5,6],[7,8,9]], dtype=np.float32)\n",
    "npmatrix"
   ]
  },
  {
   "cell_type": "code",
   "execution_count": 14,
   "id": "171adbd3-ed26-4071-b3ee-906655b79a18",
   "metadata": {},
   "outputs": [],
   "source": [
    "u,s,vt = svds(npmatrix,k=2)"
   ]
  },
  {
   "cell_type": "code",
   "execution_count": 17,
   "id": "8f6c3f64-85cd-4563-ae4c-c09d0b33e432",
   "metadata": {},
   "outputs": [
    {
     "data": {
      "text/plain": [
       "array([[1.000001 , 1.9999995, 2.999998 ],\n",
       "       [3.9999974, 5.0000005, 6.0000033],\n",
       "       [7.000002 , 8.000001 , 8.999999 ]], dtype=float32)"
      ]
     },
     "execution_count": 17,
     "metadata": {},
     "output_type": "execute_result"
    }
   ],
   "source": [
    "u @ np.diag(s) @ vt"
   ]
  },
  {
   "cell_type": "code",
   "execution_count": null,
   "id": "6f82f4df-f74c-4027-94f0-ced6c75eea9a",
   "metadata": {},
   "outputs": [],
   "source": []
  }
 ],
 "metadata": {
  "kernelspec": {
   "display_name": "Python 3 (ipykernel)",
   "language": "python",
   "name": "python3"
  },
  "language_info": {
   "codemirror_mode": {
    "name": "ipython",
    "version": 3
   },
   "file_extension": ".py",
   "mimetype": "text/x-python",
   "name": "python",
   "nbconvert_exporter": "python",
   "pygments_lexer": "ipython3",
   "version": "3.9.5"
  }
 },
 "nbformat": 4,
 "nbformat_minor": 5
}
