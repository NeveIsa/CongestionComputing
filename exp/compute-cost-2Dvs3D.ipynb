{
 "cells": [
  {
   "cell_type": "code",
   "execution_count": 16,
   "id": "f68b0aa2-eea9-42d6-8e20-aa857578bb9f",
   "metadata": {},
   "outputs": [],
   "source": [
    "# All imports\n",
    "\n",
    "\n",
    "from prettyprinter import pprint \n",
    "\n",
    "import numpy as np\n",
    "import pandas as pd\n",
    "import json\n",
    "\n",
    "\n",
    "import matplotlib.pyplot as plt\n",
    "plt.rcParams['figure.figsize'] = [15, 10]\n",
    "import seaborn as sns\n",
    "sns.set_style('dark')\n",
    "\n",
    "import tensorly as tl\n",
    "from tensorly.decomposition import parafac,tucker\n",
    "\n",
    "import scipy,sklearn\n",
    "import  sklearn.decomposition\n",
    "\n",
    "import time"
   ]
  },
  {
   "cell_type": "code",
   "execution_count": 28,
   "id": "194f6315-f7d9-4e1b-831c-f5b178a2b621",
   "metadata": {},
   "outputs": [
    {
     "name": "stdout",
     "output_type": "stream",
     "text": [
      "Rank-1 took-> 21.34998893737793\n",
      "Rank-2 took-> 16.93677043914795\n",
      "Rank-3 took-> 17.206077337265015\n",
      "Rank-4 took-> 16.481677293777466\n"
     ]
    }
   ],
   "source": [
    "# Random 2D decomp of 100 matrices of size 1000x1000 | Rank 2 decomp using sklearn.decomposition.TruncatedSVD\n",
    "\n",
    "def truncsvd(k):\n",
    "    start = time.time()\n",
    "    for _ in range(100):\n",
    "        M = np.random.random((1000,1000))\n",
    "        svd = sklearn.decomposition.TruncatedSVD(n_components=2, algorithm='arpack')\n",
    "        svd.fit(M)\n",
    "\n",
    "    took = time.time() - start\n",
    "    print(f'Rank-{k} took->',took)\n",
    "        \n",
    "for k in range(1,5):\n",
    "    truncsvd(k)"
   ]
  },
  {
   "cell_type": "code",
   "execution_count": 29,
   "id": "d70d652d-7c1b-4b21-8c4f-57edd73bde3e",
   "metadata": {},
   "outputs": [
    {
     "name": "stdout",
     "output_type": "stream",
     "text": [
      "Rank-1 took-> 19.51430916786194\n",
      "Rank-2 took-> 19.290804624557495\n",
      "Rank-3 took-> 19.17023468017578\n",
      "Rank-4 took-> 18.876988887786865\n"
     ]
    }
   ],
   "source": [
    "# Random 2D decomp of 100 matrices of size 1000x1000 | Rank 2 decomp using scipy.sparse.linalg\n",
    "\n",
    "def sparsesvd(k):\n",
    "    start = time.time()\n",
    "    for _ in range(100):\n",
    "        M = np.random.random((1000,1000))\n",
    "        u,s,v = scipy.sparse.linalg.svds(M,k=2)\n",
    "\n",
    "\n",
    "    took = time.time() - start\n",
    "    print(f'Rank-{k} took->',took)\n",
    "        \n",
    "for k in range(1,5):\n",
    "    sparsesvd(k)"
   ]
  },
  {
   "cell_type": "code",
   "execution_count": 30,
   "id": "9c01dfe0-6e0d-4406-878d-633532dd4bf3",
   "metadata": {},
   "outputs": [
    {
     "name": "stdout",
     "output_type": "stream",
     "text": [
      "Rank-1 took-> 132.64560437202454\n",
      "Rank-2 took-> 113.64535093307495\n",
      "Rank-3 took-> 114.95817160606384\n",
      "Rank-4 took-> 113.66702127456665\n"
     ]
    }
   ],
   "source": [
    "# Random 2D decomp of 100 matrices of size 1000x1000 | FULL rank decomp using scipy.sparse.linalg\n",
    "def svdfull(k):\n",
    "    start = time.time()\n",
    "    for _ in range(100):\n",
    "        M = np.random.random((1000,1000))\n",
    "        u,s,v = scipy.linalg.svd(M)\n",
    "\n",
    "\n",
    "    took = time.time() - start\n",
    "    print(f'Rank-{k} took->',took)\n",
    "\n",
    "for k in range(1,5):\n",
    "    svdfull(k)"
   ]
  },
  {
   "cell_type": "code",
   "execution_count": 31,
   "id": "0eea969a-cb3c-4551-b3d8-adc28ade352d",
   "metadata": {},
   "outputs": [
    {
     "name": "stdout",
     "output_type": "stream",
     "text": [
      "Rank-1 took-> 8.789810419082642\n",
      "Rank-2 took-> 137.00906825065613\n"
     ]
    }
   ],
   "source": [
    "# Random 2D decomp of 100 3D tensors of size 100x100x100 | Rank 2 decomp using tensorly prafac\n",
    "\n",
    "def pfac(k):\n",
    "    start = time.time()\n",
    "    for _ in range(100):\n",
    "        nptensor = np.random.random((100,100,100))\n",
    "        tensor = tl.tensor(nptensor)\n",
    "        factors = parafac(tensor, rank=k)\n",
    "        #weights, components = factors\n",
    "\n",
    "\n",
    "    took = time.time() - start\n",
    "    print(f'Rank-{k} took->',took)\n",
    "\n",
    "\n",
    "for k in range(1,3):\n",
    "    pfac(k)"
   ]
  },
  {
   "cell_type": "code",
   "execution_count": 32,
   "id": "4ae9e619-8a64-4596-85cf-ca7211bed52e",
   "metadata": {},
   "outputs": [
    {
     "name": "stderr",
     "output_type": "stream",
     "text": [
      "c:\\users\\bzsnk3\\miniconda3\\lib\\site-packages\\tensorly\\tucker_tensor.py:357: RuntimeWarning: Given only one int for 'rank' for decomposition a tensor of order 3. Using this rank for all modes.\n",
      "  warnings.warn(message, RuntimeWarning)\n"
     ]
    },
    {
     "name": "stdout",
     "output_type": "stream",
     "text": [
      "Rank-1 took-> 10.42165756225586\n",
      "Rank-2 took-> 15.372838020324707\n",
      "Rank-3 took-> 14.78725290298462\n",
      "Rank-4 took-> 14.733559846878052\n"
     ]
    }
   ],
   "source": [
    "# Random 2D decomp of 100 3D tensors of size 100x100x100 | Rank 2 decomp using tensorly tucker\n",
    "\n",
    "def tker(k):\n",
    "    start = time.time()\n",
    "    for _ in range(100):\n",
    "        nptensor = np.random.random((100,100,100))\n",
    "        tensor = tl.tensor(nptensor)\n",
    "        factors = tucker(tensor, rank=k)\n",
    "        #weights, components = factors\n",
    "\n",
    "\n",
    "    took = time.time() - start\n",
    "    print(f'Rank-{k} took->',took)\n",
    "\n",
    "for k in range(1,5):\n",
    "    tker(k)"
   ]
  },
  {
   "cell_type": "code",
   "execution_count": 36,
   "id": "c2758331-dd66-48b2-b480-c540e17111dd",
   "metadata": {},
   "outputs": [
    {
     "data": {
      "text/plain": [
       "8"
      ]
     },
     "execution_count": 36,
     "metadata": {},
     "output_type": "execute_result"
    }
   ],
   "source": []
  },
  {
   "cell_type": "code",
   "execution_count": null,
   "id": "7552055c-0a27-4c25-bdf1-961228d9c770",
   "metadata": {},
   "outputs": [],
   "source": []
  }
 ],
 "metadata": {
  "kernelspec": {
   "display_name": "Python 3",
   "language": "python",
   "name": "python3"
  },
  "language_info": {
   "codemirror_mode": {
    "name": "ipython",
    "version": 3
   },
   "file_extension": ".py",
   "mimetype": "text/x-python",
   "name": "python",
   "nbconvert_exporter": "python",
   "pygments_lexer": "ipython3",
   "version": "3.8.5"
  }
 },
 "nbformat": 4,
 "nbformat_minor": 5
}
